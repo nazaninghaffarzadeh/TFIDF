{
 "cells": [
  {
   "cell_type": "code",
   "execution_count": 12,
   "id": "0ac3efa0",
   "metadata": {},
   "outputs": [],
   "source": [
    "import pandas as pd\n",
    "import numpy as np\n",
    "from sklearn.feature_extraction.text import TfidfVectorizer\n",
    "from sklearn.feature_extraction.text import CountVectorizer\n",
    "from sklearn.metrics.pairwise import cosine_similarity"
   ]
  },
  {
   "cell_type": "code",
   "execution_count": 13,
   "id": "074b2db7",
   "metadata": {},
   "outputs": [],
   "source": [
    "Input_DATASET=\"https://raw.githubusercontent.com/kishan0725/The-Movie-Cinema/master/main_data.csv\"\n",
    "MOVIE_TITLE=\"movie_title\""
   ]
  },
  {
   "cell_type": "code",
   "execution_count": 15,
   "id": "6dd2f006",
   "metadata": {},
   "outputs": [],
   "source": [
    "INPUT_DATA=\"https://raw.githubusercontent.com/kishan0725/The-Movie-Cinema/master/main_data.csv\"\n",
    "df=pd.read_csv(INPUT_DATA)"
   ]
  },
  {
   "cell_type": "code",
   "execution_count": 16,
   "id": "385573e0",
   "metadata": {},
   "outputs": [
    {
     "data": {
      "text/html": [
       "<div>\n",
       "<style scoped>\n",
       "    .dataframe tbody tr th:only-of-type {\n",
       "        vertical-align: middle;\n",
       "    }\n",
       "\n",
       "    .dataframe tbody tr th {\n",
       "        vertical-align: top;\n",
       "    }\n",
       "\n",
       "    .dataframe thead th {\n",
       "        text-align: right;\n",
       "    }\n",
       "</style>\n",
       "<table border=\"1\" class=\"dataframe\">\n",
       "  <thead>\n",
       "    <tr style=\"text-align: right;\">\n",
       "      <th></th>\n",
       "      <th>director_name</th>\n",
       "      <th>actor_1_name</th>\n",
       "      <th>actor_2_name</th>\n",
       "      <th>actor_3_name</th>\n",
       "      <th>genres</th>\n",
       "      <th>movie_title</th>\n",
       "      <th>comb</th>\n",
       "    </tr>\n",
       "  </thead>\n",
       "  <tbody>\n",
       "    <tr>\n",
       "      <th>0</th>\n",
       "      <td>John Lasseter</td>\n",
       "      <td>Tom Hanks</td>\n",
       "      <td>Tim Allen</td>\n",
       "      <td>Don Rickles</td>\n",
       "      <td>Animation Comedy Family</td>\n",
       "      <td>toy story</td>\n",
       "      <td>Tom Hanks Tim Allen Don Rickles John Lasseter ...</td>\n",
       "    </tr>\n",
       "    <tr>\n",
       "      <th>1</th>\n",
       "      <td>Joe Johnston</td>\n",
       "      <td>Robin Williams</td>\n",
       "      <td>Jonathan Hyde</td>\n",
       "      <td>Kirsten Dunst</td>\n",
       "      <td>Adventure Fantasy Family</td>\n",
       "      <td>jumanji</td>\n",
       "      <td>Robin Williams Jonathan Hyde Kirsten Dunst Joe...</td>\n",
       "    </tr>\n",
       "    <tr>\n",
       "      <th>2</th>\n",
       "      <td>Howard Deutch</td>\n",
       "      <td>Walter Matthau</td>\n",
       "      <td>Jack Lemmon</td>\n",
       "      <td>Ann-Margret</td>\n",
       "      <td>Romance Comedy</td>\n",
       "      <td>grumpier old men</td>\n",
       "      <td>Walter Matthau Jack Lemmon Ann-Margret Howard ...</td>\n",
       "    </tr>\n",
       "    <tr>\n",
       "      <th>3</th>\n",
       "      <td>Forest Whitaker</td>\n",
       "      <td>Whitney Houston</td>\n",
       "      <td>Angela Bassett</td>\n",
       "      <td>Loretta Devine</td>\n",
       "      <td>Comedy Drama Romance</td>\n",
       "      <td>waiting to exhale</td>\n",
       "      <td>Whitney Houston Angela Bassett Loretta Devine ...</td>\n",
       "    </tr>\n",
       "    <tr>\n",
       "      <th>4</th>\n",
       "      <td>Charles Shyer</td>\n",
       "      <td>Steve Martin</td>\n",
       "      <td>Diane Keaton</td>\n",
       "      <td>Martin Short</td>\n",
       "      <td>Comedy</td>\n",
       "      <td>father of the bride part ii</td>\n",
       "      <td>Steve Martin Diane Keaton Martin Short Charles...</td>\n",
       "    </tr>\n",
       "  </tbody>\n",
       "</table>\n",
       "</div>"
      ],
      "text/plain": [
       "     director_name     actor_1_name    actor_2_name    actor_3_name  \\\n",
       "0    John Lasseter        Tom Hanks       Tim Allen     Don Rickles   \n",
       "1     Joe Johnston   Robin Williams   Jonathan Hyde   Kirsten Dunst   \n",
       "2    Howard Deutch   Walter Matthau     Jack Lemmon     Ann-Margret   \n",
       "3  Forest Whitaker  Whitney Houston  Angela Bassett  Loretta Devine   \n",
       "4    Charles Shyer     Steve Martin    Diane Keaton    Martin Short   \n",
       "\n",
       "                     genres                  movie_title  \\\n",
       "0   Animation Comedy Family                    toy story   \n",
       "1  Adventure Fantasy Family                      jumanji   \n",
       "2            Romance Comedy             grumpier old men   \n",
       "3      Comedy Drama Romance            waiting to exhale   \n",
       "4                    Comedy  father of the bride part ii   \n",
       "\n",
       "                                                comb  \n",
       "0  Tom Hanks Tim Allen Don Rickles John Lasseter ...  \n",
       "1  Robin Williams Jonathan Hyde Kirsten Dunst Joe...  \n",
       "2  Walter Matthau Jack Lemmon Ann-Margret Howard ...  \n",
       "3  Whitney Houston Angela Bassett Loretta Devine ...  \n",
       "4  Steve Martin Diane Keaton Martin Short Charles...  "
      ]
     },
     "execution_count": 16,
     "metadata": {},
     "output_type": "execute_result"
    }
   ],
   "source": [
    "df.head()"
   ]
  },
  {
   "cell_type": "code",
   "execution_count": 17,
   "id": "3b8bd39d",
   "metadata": {},
   "outputs": [],
   "source": [
    "MOVIE_TITLE=\"movie_title\""
   ]
  },
  {
   "cell_type": "code",
   "execution_count": 19,
   "id": "22811961",
   "metadata": {},
   "outputs": [
    {
     "data": {
      "text/plain": [
       "<36987x20088 sparse matrix of type '<class 'numpy.float64'>'\n",
       "\twith 105316 stored elements in Compressed Sparse Row format>"
      ]
     },
     "execution_count": 19,
     "metadata": {},
     "output_type": "execute_result"
    }
   ],
   "source": [
    "vectorizer=TfidfVectorizer()\n",
    "X=vectorizer.fit_transform(df[MOVIE_TITLE])\n",
    "X"
   ]
  },
  {
   "cell_type": "code",
   "execution_count": 26,
   "id": "f9a4ae67",
   "metadata": {},
   "outputs": [
    {
     "name": "stdout",
     "output_type": "stream",
     "text": [
      "indexed 36987 with 20088\n"
     ]
    }
   ],
   "source": [
    "num_movies,unique_words=X.shape\n",
    "print(f\"indexed {num_movies} with {unique_words}\")"
   ]
  },
  {
   "cell_type": "code",
   "execution_count": 31,
   "id": "4b62bbe2",
   "metadata": {},
   "outputs": [],
   "source": [
    "QUERY='jumanji'\n",
    "query_vec=vectorizer.transform([QUERY])"
   ]
  },
  {
   "cell_type": "code",
   "execution_count": 30,
   "id": "33820731",
   "metadata": {},
   "outputs": [
    {
     "data": {
      "text/plain": [
       "array([0., 1., 0., ..., 0., 0., 0.])"
      ]
     },
     "execution_count": 30,
     "metadata": {},
     "output_type": "execute_result"
    }
   ],
   "source": [
    "result=cosine_similarity(X,query_vec).reshape((-1,))\n",
    "result"
   ]
  },
  {
   "cell_type": "code",
   "execution_count": 36,
   "id": "900e586f",
   "metadata": {},
   "outputs": [
    {
     "name": "stdout",
     "output_type": "stream",
     "text": [
      "[    1 36829 36986 12326 12332 12331 12330 12329 12328 12327]\n"
     ]
    }
   ],
   "source": [
    "res=result.argsort()[-10:][::-1]\n",
    "print(res)"
   ]
  },
  {
   "cell_type": "code",
   "execution_count": 38,
   "id": "9865fd2c",
   "metadata": {},
   "outputs": [
    {
     "name": "stdout",
     "output_type": "stream",
     "text": [
      "movie_title    jumanji\n",
      "Name: 1, dtype: object\n",
      "movie_title    jumanji: the next level\n",
      "Name: 36829, dtype: object\n",
      "movie_title    news of the world\n",
      "Name: 36986, dtype: object\n",
      "movie_title    pekka ja pätkä suezilla\n",
      "Name: 12326, dtype: object\n",
      "movie_title    a matter of dignity\n",
      "Name: 12332, dtype: object\n",
      "movie_title    jerichow\n",
      "Name: 12331, dtype: object\n",
      "movie_title    bart got a room\n",
      "Name: 12330, dtype: object\n",
      "movie_title    swades: we, the people\n",
      "Name: 12329, dtype: object\n",
      "movie_title    horsemen\n",
      "Name: 12328, dtype: object\n",
      "movie_title    don't touch the axe\n",
      "Name: 12327, dtype: object\n"
     ]
    }
   ],
   "source": [
    "for i in res:\n",
    "    print(df.iloc[i,5:6])"
   ]
  },
  {
   "cell_type": "code",
   "execution_count": null,
   "id": "7de285a6",
   "metadata": {},
   "outputs": [],
   "source": []
  }
 ],
 "metadata": {
  "kernelspec": {
   "display_name": "Python 3 (ipykernel)",
   "language": "python",
   "name": "python3"
  },
  "language_info": {
   "codemirror_mode": {
    "name": "ipython",
    "version": 3
   },
   "file_extension": ".py",
   "mimetype": "text/x-python",
   "name": "python",
   "nbconvert_exporter": "python",
   "pygments_lexer": "ipython3",
   "version": "3.11.3"
  }
 },
 "nbformat": 4,
 "nbformat_minor": 5
}
